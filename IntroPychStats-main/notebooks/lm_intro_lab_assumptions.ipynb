{
  "nbformat": 4,
  "nbformat_minor": 0,
  "metadata": {
    "colab": {
      "provenance": []
    },
    "kernelspec": {
      "name": "ir",
      "display_name": "R"
    },
    "language_info": {
      "name": "R"
    }
  },
  "cells": [
    {
      "cell_type": "markdown",
      "metadata": {
        "id": "trouKhmEw-ii"
      },
      "source": [
        "<img src='https://images.squarespace-cdn.com/content/v1/56acc1138a65e2a286012c54/1540838202280-0J5KTEAF49LT2SWSA4TT/cell-phone-addiction_0.jpg' width=500>"
      ]
    },
    {
      "cell_type": "markdown",
      "metadata": {
        "id": "5Z2vKe5lxjuk"
      },
      "source": [
        "#<font color='darkorange'>Answering questions using a statistical model</font>"
      ]
    },
    {
      "cell_type": "markdown",
      "metadata": {
        "id": "_QeNGJdGx3tD"
      },
      "source": [
        "In this notebook we'll use statistical inference to answer the question: \"Is there a relationship between age and how much someone uses their phone?\"\n",
        "\n",
        "To do this we'll use the linear regression:"
      ]
    },
    {
      "cell_type": "markdown",
      "metadata": {
        "id": "gXa7ZC11VSZn"
      },
      "source": [
        "y = a + b*x"
      ]
    },
    {
      "cell_type": "markdown",
      "metadata": {
        "id": "ZzFbmTd1VXte"
      },
      "source": [
        "In this equation we have variables (the data we are going to use: e.g., the columns in a spreadsheet).\n",
        "\n",
        "> Here the \"y\" is the values of the response variable. This is the thing you'd like to predict! So in the case of the IQ dataset this could be child IQ values.\n",
        "  \n",
        "> The \"x\" in the equation is the values you'd like to use to help make those predictions. Again in the case of the IQ dataset this could be the mom's IQ score.\n",
        "\n",
        "In this equation we also have parameters (these are learnt from the data)\n",
        "  \n",
        "> The \"a\" is the intercept, and measures where the linear line crosses the y-axis on the plot.\n",
        "\n",
        "> The \"b\" is the slope, and measures how the x value is predicted to change the y value. Positive slopes suggest that when x goes up so does y, and negative slopes suggest that when x goes up y goes down."
      ]
    },
    {
      "cell_type": "markdown",
      "metadata": {
        "id": "l8WO2IgVWmds"
      },
      "source": [
        "  \n",
        "  \n",
        "\n",
        "Now that we've looked at all the peices of the equation let's try to use it! This will help us better interpret what the parameters really mean."
      ]
    },
    {
      "cell_type": "markdown",
      "metadata": {
        "id": "GNz8wsU5jsPk"
      },
      "source": [
        "## Fitting a line to the data"
      ]
    },
    {
      "cell_type": "markdown",
      "metadata": {
        "id": "h5dkpbBqARsC"
      },
      "source": [
        "First lets load in some packages. These have functions that other people have made, and will hopefully make our lives a lot easier!"
      ]
    },
    {
      "cell_type": "code",
      "metadata": {
        "id": "NMCdcYmyAQNB",
        "colab": {
          "base_uri": "https://localhost:8080/"
        },
        "outputId": "d415601d-d681-4f53-cc3a-d3d51743fe0a"
      },
      "source": [
        "install.packages(\"jtools\")\n",
        "install.packages(\"ggstance\")\n",
        "library(jtools)"
      ],
      "execution_count": 6,
      "outputs": [
        {
          "output_type": "stream",
          "name": "stderr",
          "text": [
            "Installing package into ‘/usr/local/lib/R/site-library’\n",
            "(as ‘lib’ is unspecified)\n",
            "\n",
            "Warning message in install.packages(\"jtools\"):\n",
            "“installation of package ‘jtools’ had non-zero exit status”\n",
            "Installing package into ‘/usr/local/lib/R/site-library’\n",
            "(as ‘lib’ is unspecified)\n",
            "\n"
          ]
        }
      ]
    },
    {
      "cell_type": "markdown",
      "metadata": {
        "id": "FvGBLDcmW8YG"
      },
      "source": [
        "Then let's load in the phone usage data"
      ]
    },
    {
      "cell_type": "code",
      "metadata": {
        "id": "W4l2Cb0PzjGW"
      },
      "source": [
        "#here we will read in a csv file and place it into something called df\n",
        "df_app <- read.csv(\"https://raw.githubusercontent.com/rhi-batstone/IntroPsychStats/main/IntroPychStats-main/data/app_usage.csv\", header = T)\n",
        "\n",
        "#let's take a look at the data\n",
        "df_app"
      ],
      "execution_count": null,
      "outputs": []
    },
    {
      "cell_type": "markdown",
      "metadata": {
        "id": "AMbKrM93zjGX"
      },
      "source": [
        "Then let's plot the scatterplot. Here we will choose:\n",
        "> what we'd like to predict and put it on the y-axis.\n",
        "> What we'd like to use to help make those predictions and put it on the x-axis."
      ]
    },
    {
      "cell_type": "code",
      "metadata": {
        "id": "YCT-75fRzjGX"
      },
      "source": [
        "plot(x = df_app$age, y = df_app$hours)"
      ],
      "execution_count": null,
      "outputs": []
    },
    {
      "cell_type": "markdown",
      "metadata": {
        "id": "K9X0c24QzjGX"
      },
      "source": [
        "Rather than visually fitting the line let's use OLS to find the values of the best fit line for us! To do this we'll use the function call **lm()**, which stands for linear model (lm). We'll use this function a lot in the next few classes so there will be a lot of time to figure all this out, so don't worry if this seems like a lot at the momment.\n",
        "\n",
        "The **lm()** function needs us to tell it what kind of linear equation to use. In particular it needs to know what you'd like to predict and what you'd like to use to make those predictions. To do this it uses a specific input to make it easier for use:\n",
        "\n",
        "> What you want to predict ~ what you want to use to make those predictions\n",
        "\n",
        "Try and fill in the equation below. You should replace the question marks below with the correct variable name (i.e., column name).\n",
        "\n",
        "\n",
        "  "
      ]
    },
    {
      "cell_type": "code",
      "metadata": {
        "id": "g0-O08LrzjGY"
      },
      "source": [
        "#fit a linear model\n",
        "model_age <- lm(? ~ ?, data = df_app)"
      ],
      "execution_count": null,
      "outputs": []
    },
    {
      "cell_type": "markdown",
      "metadata": {
        "id": "lGtlgt5I0fJ4"
      },
      "source": [
        "Let's take a look at what it found. To do this we'll use a function called **summary()**. It is very useful and will tell us what values of a and b it found for the best fit line.\n",
        "  \n",
        "> Let's also calculate a confidence interval so that we can get a sense of what the slope and intercept are for the population and not just the sample.\n"
      ]
    },
    {
      "cell_type": "code",
      "metadata": {
        "id": "899wXhZenzMt"
      },
      "source": [
        "summ(model_age, confint = TRUE)"
      ],
      "execution_count": null,
      "outputs": []
    },
    {
      "cell_type": "markdown",
      "metadata": {
        "id": "4KCh21RJzjGZ"
      },
      "source": [
        "What does the output suggest are likely values for the intercept and slope?\n",
        "\n",
        "> What are the range of population values that are compatible with our sample?"
      ]
    },
    {
      "cell_type": "markdown",
      "metadata": {
        "id": "XdjGuaFZ_jYT"
      },
      "source": [
        "Let's take a look at the estimates a little more visually"
      ]
    },
    {
      "cell_type": "code",
      "metadata": {
        "id": "r4fj57a7_mRa"
      },
      "source": [
        "#plot the estimates of the slopes\n",
        "plot_summs(model_age)"
      ],
      "execution_count": null,
      "outputs": []
    },
    {
      "cell_type": "markdown",
      "metadata": {
        "id": "qhxESbN27BNZ"
      },
      "source": [
        "Let's take a look at the regression line a little more visually"
      ]
    },
    {
      "cell_type": "code",
      "metadata": {
        "id": "t68PheeXo7F9"
      },
      "source": [
        "#plot line on the data\n",
        "effect_plot(model_age, pred = age, interval = TRUE, plot.points = TRUE)"
      ],
      "execution_count": null,
      "outputs": []
    },
    {
      "cell_type": "markdown",
      "metadata": {
        "id": "ahoXU8HzYzlM"
      },
      "source": [
        "### 5. Checking assumptions"
      ]
    },
    {
      "cell_type": "markdown",
      "metadata": {
        "id": "FcO_XSKdfdyr"
      },
      "source": [
        "**Assumption 1**\n",
        "\n",
        "Let's check the assumption that the errors (residuals) are normally distributed."
      ]
    },
    {
      "cell_type": "code",
      "metadata": {
        "id": "ASugh5jufsY5"
      },
      "source": [
        "hist(model_age$residuals)"
      ],
      "execution_count": null,
      "outputs": []
    },
    {
      "cell_type": "markdown",
      "metadata": {
        "id": "EtBUci2VkxRS"
      },
      "source": [
        "The above plot is just like the histograms we've looked at in the past. Now we are looking at how errors are distributed.\n",
        "\n",
        "> If the errors do not look to have many small errors and few large errors (both positive and negative) then a normal distribution might not be the best model of the data. We might also be missing an important variable..."
      ]
    },
    {
      "cell_type": "markdown",
      "metadata": {
        "id": "58GItzyDhntE"
      },
      "source": [
        "**Assumption 2** - no patterns in the residuals\n",
        "  \n",
        "Let's check the assumption that the variance in the errors is constant."
      ]
    },
    {
      "cell_type": "code",
      "metadata": {
        "id": "2yUMbAxyhuy7"
      },
      "source": [
        "plot(y = model_age$residuals, x = model_age$fitted.values)\n",
        "abline(h = 0, lty = 3)"
      ],
      "execution_count": null,
      "outputs": []
    },
    {
      "cell_type": "markdown",
      "metadata": {
        "id": "nm3ciXHmj88J"
      },
      "source": [
        "The above plot shows you all the errors (residuals) for each value that the model predicts. Ideally, we'd like to see errors evenly distributed around 0 (i.e., the dashed line).\n",
        "\n",
        "> If there is more variance in the errors for some prediction values then this means the model is better at predicting some values than others."
      ]
    },
    {
      "cell_type": "markdown",
      "metadata": {
        "id": "B7sq7l6wl4KZ"
      },
      "source": [
        "**Assumption 2** - no patterns in the residuals\n",
        "   \n",
        "Let's check the assumption that the relationship between your variables is linear (i.e., that a straight line and not a curvy line fit the data best). We can see this intuatively in the origianl scatter plot, or we can look at the residuals!"
      ]
    },
    {
      "cell_type": "code",
      "metadata": {
        "id": "U3V5fD6JmUg9"
      },
      "source": [
        "plot(y = model_age$residuals, x = model_age$fitted.values)\n",
        "abline(h = 0, lty = 3)"
      ],
      "execution_count": null,
      "outputs": []
    },
    {
      "cell_type": "markdown",
      "metadata": {
        "id": "E-q2qacNmZdH"
      },
      "source": [
        "The plot above is just the line fit to the scatterplot we saw before. Intuatively you can check to see if the straight line fits the data, or if a curvy line might fit better."
      ]
    },
    {
      "cell_type": "markdown",
      "metadata": {
        "id": "6k_jpW3Em3Oq"
      },
      "source": [
        "There are two things to keep in mind when checking the assumptions of the linear regression.\n",
        "\n",
        "> The first is that the assumptions do not need to be perfect to give you a resonable estimate.\n",
        "\n",
        "> The second is that often the way the model fails can help you build a better model."
      ]
    },
    {
      "cell_type": "markdown",
      "source": [
        "## Handing in your work\n",
        "\n",
        "Once you've run the code above go to Moodle and answer some questions. These questions will mostly be about interpreting the outputs of your linear regression!"
      ],
      "metadata": {
        "id": "tXEBLHZnWTWg"
      }
    }
  ]
}