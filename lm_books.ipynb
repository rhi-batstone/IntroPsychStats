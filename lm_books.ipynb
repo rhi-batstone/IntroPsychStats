{
  "nbformat": 4,
  "nbformat_minor": 0,
  "metadata": {
    "colab": {
      "provenance": [],
      "include_colab_link": true
    },
    "kernelspec": {
      "name": "ir",
      "display_name": "R"
    },
    "language_info": {
      "name": "R"
    }
  },
  "cells": [
    {
      "cell_type": "markdown",
      "metadata": {
        "id": "view-in-github",
        "colab_type": "text"
      },
      "source": [
        "<a href=\"https://colab.research.google.com/github/rhi-batstone/IntroPsychStats/blob/main/lm_books.ipynb\" target=\"_parent\"><img src=\"https://colab.research.google.com/assets/colab-badge.svg\" alt=\"Open In Colab\"/></a>"
      ]
    },
    {
      "cell_type": "markdown",
      "metadata": {
        "id": "trouKhmEw-ii"
      },
      "source": [
        "<img src='http://drive.google.com/uc?export=view&id=1fDQUuaVfjkpHK2MpaeIQBe4UBME7l4SP' width=500>\n",
        "\n"
      ]
    },
    {
      "cell_type": "markdown",
      "metadata": {
        "id": "5Z2vKe5lxjuk"
      },
      "source": [
        "#<font color='darkorange'>Exploritory Data Analysis: book ratings! </font>"
      ]
    },
    {
      "cell_type": "markdown",
      "metadata": {
        "id": "_QeNGJdGx3tD"
      },
      "source": [
        "In this notebook we'll do some exploratory data analysis!\n"
      ]
    },
    {
      "cell_type": "markdown",
      "metadata": {
        "id": "GNz8wsU5jsPk"
      },
      "source": [
        "### 1. Load in the data"
      ]
    },
    {
      "cell_type": "markdown",
      "metadata": {
        "id": "h5dkpbBqARsC"
      },
      "source": [
        "Lets load in some packages. These have functions that other people have made, and will hopefully make our lives a lot easier!"
      ]
    },
    {
      "cell_type": "code",
      "metadata": {
        "id": "NMCdcYmyAQNB"
      },
      "source": [
        "install.packages(\"jtools\")\n",
        "library(jtools)"
      ],
      "execution_count": null,
      "outputs": []
    },
    {
      "cell_type": "markdown",
      "metadata": {
        "id": "FvGBLDcmW8YG"
      },
      "source": [
        "To read more about the book dataset:\n",
        "> [Amazon top 50 books](https://www.kaggle.com/datasets/sootersaalu/amazon-top-50-bestselling-books-2009-2019)"
      ]
    },
    {
      "cell_type": "code",
      "metadata": {
        "id": "W4l2Cb0PzjGW"
      },
      "source": [
        "#Work with the boston house prices\n",
        "df_EDA <- read.csv(\"https://raw.githubusercontent.com/tbonne/IntroPychStats/main/data/bestsellers_with_categories.csv\", header = T)\n",
        "\n",
        "#let's take a look at the data\n",
        "head(df_EDA)"
      ],
      "execution_count": null,
      "outputs": []
    },
    {
      "cell_type": "markdown",
      "metadata": {
        "id": "87dWXJj-dIvS"
      },
      "source": [
        "Let's ask the following questions in the lab:\n",
        "\n",
        "> Q1: Is there an association between the genre and the rating of books?\n",
        "\n",
        "> Q2: Is there an association between the price of the book and the rating? What about year of publication? Or the number of reviews recived?\n",
        "\n",
        "> Q3: Which variable has more of an impact on predicted rating? Is it price, year, or number of reviews?\n"
      ]
    },
    {
      "cell_type": "markdown",
      "metadata": {
        "id": "AMbKrM93zjGX"
      },
      "source": [
        "### 2. Visualize our data\n",
        "\n",
        "Then let's plot a scatterplot (feel free to plot a few here, it is always a good idea to explore your data before modeling!). Here we will choose:\n",
        "> What we'd like to predict and put it on the y-axis.\n",
        "\n",
        "> What we'd like to use to help make those predictions and put it on the x-axis.\n",
        "\n",
        "> The choice of these variables should follow from the question you're asking above!\n"
      ]
    },
    {
      "cell_type": "markdown",
      "metadata": {
        "id": "-IML1wRPsCui"
      },
      "source": [
        "**Histogram**"
      ]
    },
    {
      "cell_type": "markdown",
      "metadata": {
        "id": "jmPN_h9SsI3C"
      },
      "source": [
        "Histograms are a great way to see how a numeric variable is distributed. Try taking a look at how ratings are distributed? Which ratings are most common?\n",
        "  \n",
        "<font color = \"darkred\"> (?) for the question mark below you should replace it with the column name that you'd like to use for the histogram.  </font>"
      ]
    },
    {
      "cell_type": "code",
      "metadata": {
        "id": "PiMsvSUcsETS"
      },
      "source": [
        "hist(df_EDA$?)"
      ],
      "execution_count": null,
      "outputs": []
    },
    {
      "cell_type": "markdown",
      "metadata": {
        "id": "XnO0MfTDr9G_"
      },
      "source": [
        "**Scatterplot**"
      ]
    },
    {
      "cell_type": "markdown",
      "metadata": {
        "id": "uo9KGZs4tSmV"
      },
      "source": [
        "Scatterplots are a great way to explore the relationships between two numeric variables. Let's look at price and ratings!\n",
        "  \n",
        "<font color = \"darkred\"> (?) for the first question mark below you should replace it with the column name that you'd like to use to make predictions. For the second question mark you should replace it with the variable you'd like to predict. </font>"
      ]
    },
    {
      "cell_type": "code",
      "metadata": {
        "id": "o7rkBQrftSmV"
      },
      "source": [
        "plot(x=df_EDA$?,y=df_EDA$?)"
      ],
      "execution_count": null,
      "outputs": []
    },
    {
      "cell_type": "markdown",
      "metadata": {
        "id": "KKduYsz8r_tW"
      },
      "source": [
        "**Boxplot**"
      ]
    },
    {
      "cell_type": "markdown",
      "metadata": {
        "id": "Cbtty_36tSmW"
      },
      "source": [
        "Boxplots are a great way to see how a numeric variable is distributed within certain categories. Let's look at how ratings change with the genre of book.\n",
        "   \n",
        "<font color = \"darkred\"> Replace the first question mark with the categorical variable, and the second question mark with the variable you'd like to predict. </font>"
      ]
    },
    {
      "cell_type": "code",
      "metadata": {
        "id": "iJyY__pJtSmW"
      },
      "source": [
        "plot(x=factor(df_EDA$Genre),y=df_EDA$Rating)"
      ],
      "execution_count": null,
      "outputs": []
    },
    {
      "cell_type": "markdown",
      "metadata": {
        "id": "K9X0c24QzjGX"
      },
      "source": [
        "### 3. Define and fit a model\n",
        "\n",
        "Now we can speficy the model we'd like to fit.\n",
        "> Remember, here we use the formula: \"what we'd like to predict\" ~ \"what we'd like to use to help make those predictions.\"\n",
        "\n",
        "Outcome (what we'd like to predict):\n",
        "\n",
        "> Rating\n",
        "\n",
        "Predictors (what we'd like to use to make predictions):\n",
        "\n",
        "> Genre\n",
        "\n",
        "> Reviews\n",
        "\n",
        "> Price\n",
        "\n",
        "> Year\n",
        "  "
      ]
    },
    {
      "cell_type": "markdown",
      "metadata": {
        "id": "Er24y1fOAe03"
      },
      "source": [
        "<font color = \"darkred\"> (?) for the question mark below you should replace it with the formula that will help you answer your question. </font>"
      ]
    },
    {
      "cell_type": "code",
      "metadata": {
        "id": "g0-O08LrzjGY"
      },
      "source": [
        "#fit a linear model\n",
        "model_EDA <- lm(Rating ~ Genre + Reviews + Price + Year, data=df_EDA)\n"
      ],
      "execution_count": null,
      "outputs": []
    },
    {
      "cell_type": "markdown",
      "metadata": {
        "id": "svHTbyO12Guk"
      },
      "source": [
        "This bit of code then use our inputs to find the best fit linear equation for:\n",
        "> $y \\sim Normal(\\mu, \\sigma) $\n",
        "\n",
        "> $\\mu = a + b_1 * x_1 + b_2*x_2 + ...$\n"
      ]
    },
    {
      "cell_type": "markdown",
      "metadata": {
        "id": "lGtlgt5I0fJ4"
      },
      "source": [
        "Let's use the summ function to tell us what values of a and b it found for the best fit line.\n",
        "> We'll calculate our 95% confidence interval here (i.e., confint=TRUE)\n",
        "\n",
        "> We'll also scale our numeric varibables to make them easier to compare (i.e., scale=TRUE)"
      ]
    },
    {
      "cell_type": "code",
      "metadata": {
        "id": "32dy8P1A0fiu"
      },
      "source": [
        "#What does the best fit model look like?\n",
        "summ(model_EDA, confint=TRUE, scale = TRUE)"
      ],
      "execution_count": null,
      "outputs": []
    },
    {
      "cell_type": "markdown",
      "metadata": {
        "id": "4KCh21RJzjGZ"
      },
      "source": [
        "We can see from this output that the model is pretty certain that the association/difference in the population is somewhere between ? and ?.\n",
        "> Those are the range of population values that are compatible with our sample!\n",
        "\n",
        "> We can also get a sense of how well your model predictions reflect the observed values using R2."
      ]
    },
    {
      "cell_type": "markdown",
      "metadata": {
        "id": "odCSqr1BZv_u"
      },
      "source": [
        "### 4. Visualize the results"
      ]
    },
    {
      "cell_type": "markdown",
      "metadata": {
        "id": "XdjGuaFZ_jYT"
      },
      "source": [
        "Let's take a look at the estimates in our summary table a little more visually.\n",
        "> the points in the plot below are the model estimates (i.e., associations/differences).\n",
        "\n",
        "> The horizontal lines show us the 95% confidence intervals of those estimates.\n",
        "\n",
        "> If scale = TRUE we can also see what associations/differences are contributing the most in making predictions."
      ]
    },
    {
      "cell_type": "code",
      "metadata": {
        "id": "r4fj57a7_mRa"
      },
      "source": [
        "#plot the estimates of the slopes\n",
        "plot_summs(model_EDA, scale=TRUE)"
      ],
      "execution_count": null,
      "outputs": []
    },
    {
      "cell_type": "markdown",
      "metadata": {
        "id": "qhxESbN27BNZ"
      },
      "source": [
        "Let's take a look at the regression line a little more visually.\n",
        "> The plot below shows us the predicted line or difference\n",
        "\n",
        "> This can be plotted for each variable that you used to help make predictions\n",
        "\n",
        "> This plot can help you better understand the relationship between one of your predictor variables and the outcome you are trying to predict."
      ]
    },
    {
      "cell_type": "markdown",
      "metadata": {
        "id": "VPzC25sMA8uk"
      },
      "source": [
        "<font color = \"darkred\"> (?) for the question mark below you should replace it with a variable that you used to make your predictions. </font>"
      ]
    },
    {
      "cell_type": "code",
      "metadata": {
        "id": "t68PheeXo7F9"
      },
      "source": [
        "#plot the difference between genres\n",
        "effect_plot(model_EDA, pred = ?, interval = TRUE, plot.points = FALSE)"
      ],
      "execution_count": null,
      "outputs": []
    },
    {
      "cell_type": "code",
      "source": [
        "#plot the change in rating due to price\n",
        "effect_plot(model_EDA, pred = ?, interval = TRUE, plot.points = TRUE)"
      ],
      "metadata": {
        "id": "O9JS2_XbJD9I"
      },
      "execution_count": null,
      "outputs": []
    },
    {
      "cell_type": "code",
      "source": [
        "#plot the change in ratings due to the number of reviews\n",
        "effect_plot(model_EDA, pred = ?, interval = TRUE, plot.points = FALSE)"
      ],
      "metadata": {
        "id": "U08z1jFaT_tg"
      },
      "execution_count": null,
      "outputs": []
    },
    {
      "cell_type": "markdown",
      "metadata": {
        "id": "ahoXU8HzYzlM"
      },
      "source": [
        "### 5. Checking assumptions"
      ]
    },
    {
      "cell_type": "markdown",
      "metadata": {
        "id": "FcO_XSKdfdyr"
      },
      "source": [
        "**Assumption 1**\n",
        "\n",
        "Let's check the assumption that the errors (residuals) are normally distributed."
      ]
    },
    {
      "cell_type": "code",
      "metadata": {
        "id": "ASugh5jufsY5"
      },
      "source": [
        "hist(model_EDA$residuals)"
      ],
      "execution_count": null,
      "outputs": []
    },
    {
      "cell_type": "markdown",
      "metadata": {
        "id": "EtBUci2VkxRS"
      },
      "source": [
        "The above plot is just like the histograms we've looked at in the past. Now we are looking at how errors are distributed.\n",
        "\n",
        "> If the errors do not look to have many small errors and few large errors (both positive and negative) then a normal distribution might not be the best model of the data. We might also be missing an important variable..."
      ]
    },
    {
      "cell_type": "markdown",
      "metadata": {
        "id": "58GItzyDhntE"
      },
      "source": [
        "**Assumption 2** - no patterns in the residuals\n",
        "  \n",
        "Let's check the assumption that the variance in the errors is constant."
      ]
    },
    {
      "cell_type": "code",
      "metadata": {
        "id": "2yUMbAxyhuy7"
      },
      "source": [
        "plot(y=model_EDA$residuals, x=model_EDA$fitted.values)\n",
        "abline(h = 0, lty=3)"
      ],
      "execution_count": null,
      "outputs": []
    },
    {
      "cell_type": "markdown",
      "metadata": {
        "id": "nm3ciXHmj88J"
      },
      "source": [
        "The above plot shows you all the errors (residuals) for each value that the model predicts. Ideally, we'd like to see errors evenly distributed around 0 (i.e., the dashed line).\n",
        "\n",
        "> If there is more variance in the errors for some prediction values then this means the model is better at predicting some values than others."
      ]
    },
    {
      "cell_type": "markdown",
      "metadata": {
        "id": "B7sq7l6wl4KZ"
      },
      "source": [
        "**Assumption 2** - no patterns in the residuals\n",
        "   \n",
        "Let's check the assumption that the relationship between your variables is linear (i.e., that a straight line and not a curvy line fit the data best). We can see this intuatively in the origianl scatter plot, or we can look at the residuals!"
      ]
    },
    {
      "cell_type": "code",
      "metadata": {
        "id": "U3V5fD6JmUg9"
      },
      "source": [
        "plot(y=model_EDA$residuals, x=model_EDA$fitted.values)\n",
        "abline(h = 0, lty=3)"
      ],
      "execution_count": null,
      "outputs": []
    },
    {
      "cell_type": "markdown",
      "metadata": {
        "id": "E-q2qacNmZdH"
      },
      "source": [
        "The plot above is just the line fit to the scatterplot we saw before. Intuatively you can check to see if the straight line fits the data, or if a curvy line might fit better."
      ]
    },
    {
      "cell_type": "markdown",
      "metadata": {
        "id": "6k_jpW3Em3Oq"
      },
      "source": [
        "There are two things to keep in mind when checking the assumptions of the linear regression.\n",
        "\n",
        "> The first is that the assumptions do not need to be perfect to give you a resonable estimate.\n",
        "\n",
        "> The second is that often the way the model fails can help you build a better model."
      ]
    },
    {
      "cell_type": "markdown",
      "metadata": {
        "id": "dVm_EGLicEd2"
      },
      "source": [
        "### 6. Interpret and communicate the results"
      ]
    },
    {
      "cell_type": "markdown",
      "metadata": {
        "id": "paxXBaCUcGbn"
      },
      "source": [
        "From the results above what can you answer the question you posed in section 1?  \n",
        "> What is the association between the variables that you tested?\n",
        "\n",
        ">> <font color=\"darkblue\">E.g., I found a positive association between the number of rooms and the price of a house (4.08, 95%CI: 1.82, 6.34).</font>\n",
        "\n",
        "> What does the confidence interval tell you about how certain you are in the sign and magnitude of those association?\n",
        "\n",
        ">> <font color=\"darkblue\">E.g., While the results suggest the sign of the association between number of rooms and price is positive, it is relativelty uncertain about the magnitude (95%CI: 1.82, 6.34).</font>\n",
        "\n",
        "> How \"good\" are your model predictions?\n",
        "\n",
        ">> <font color=\"darkblue\">E.g., The model was able to predict house prices with an r2 of 0.50.</font>\n",
        "\n",
        "> How closely does your model meet the model assumptions?\n",
        "\n",
        ">> <font color=\"darkblue\">The model residuals are approximately normally distributed (e.g., point to your histogram). A plot of the residuals vs. predicted suggest some maximum residual values depending on the predicted value (e.g., point to your residual vs. fitted plot).</font>"
      ]
    },
    {
      "cell_type": "markdown",
      "source": [
        "# Moodle quiz\n",
        "\n",
        "Once you've gone through this lab, go to Moodle and answer a short quiz."
      ],
      "metadata": {
        "id": "MwgCCGNLJVKr"
      }
    }
  ]
}